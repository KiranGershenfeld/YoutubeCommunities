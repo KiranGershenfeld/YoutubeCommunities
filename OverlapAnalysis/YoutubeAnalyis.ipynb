{
 "cells": [
  {
   "cell_type": "code",
   "execution_count": 1,
   "source": [
    "import boto3\r\n",
    "import pickle as pkl\r\n",
    "import pandas as pd\r\n",
    "import csv\r\n",
    "import time\r\n",
    "bucket = 'youtube-overlaps'"
   ],
   "outputs": [],
   "metadata": {}
  },
  {
   "cell_type": "code",
   "execution_count": 2,
   "source": [
    "def see_all_files_s3(bucket):\r\n",
    "    s3 = boto3.resource('s3')\r\n",
    "    s3_bucket = s3.Bucket(bucket)\r\n",
    "    files = []\r\n",
    "    for obj in s3_bucket.objects.all():\r\n",
    "        files.append(obj.key)\r\n",
    "    return files\r\n",
    "\r\n",
    "def load_pkl_obj_s3(file_name, bucket):\r\n",
    "    try:\r\n",
    "        s3 = boto3.resource('s3')\r\n",
    "        obj = pkl.loads(s3.Bucket(bucket).Object(file_name).get()['Body'].read())\r\n",
    "    except:\r\n",
    "        time.sleep(5)\r\n",
    "        return load_pkl_obj_s3(file_name, bucket)\r\n",
    "        \r\n",
    "    return obj"
   ],
   "outputs": [],
   "metadata": {}
  },
  {
   "cell_type": "code",
   "execution_count": 8,
   "source": [
    "commenter_files = see_all_files_s3(bucket)\r\n",
    "channel_file_dict = {}\r\n",
    "for file_name in commenter_files:\r\n",
    "    prefix_len = 9\r\n",
    "    suffix_len = 17\r\n",
    "    channel_name = file_name[prefix_len:-suffix_len]\r\n",
    "    channel_file_dict[channel_name] = file_name\r\n",
    "\r\n",
    "len(channel_file_dict)"
   ],
   "outputs": [
    {
     "output_type": "execute_result",
     "data": {
      "text/plain": [
       "2441"
      ]
     },
     "metadata": {},
     "execution_count": 8
    }
   ],
   "metadata": {}
  },
  {
   "cell_type": "markdown",
   "source": [],
   "metadata": {}
  },
  {
   "cell_type": "code",
   "execution_count": 9,
   "source": [
    "master_overlap_dict = {}\r\n",
    "for primary_channel, _file in channel_file_dict.items():\r\n",
    "    master_overlap_dict.update(load_pkl_obj_s3(_file, bucket))\r\n",
    "\r\n",
    "print(len(master_overlap_dict))"
   ],
   "outputs": [
    {
     "output_type": "stream",
     "name": "stdout",
     "text": [
      "2363\n"
     ]
    }
   ],
   "metadata": {}
  },
  {
   "cell_type": "code",
   "execution_count": 10,
   "source": [
    "channel_df = pd.read_csv('Top20kYoutubeChannels.csv')"
   ],
   "outputs": [],
   "metadata": {}
  },
  {
   "cell_type": "code",
   "execution_count": 11,
   "source": [
    "def create_edges_csv(overlap_dict):\r\n",
    "    with open('youtube_edges.csv', 'w') as csvfile:\r\n",
    "        writer = csv.writer(csvfile, delimiter=',')\r\n",
    "        writer.writerow(['Source', 'Target', 'Weight'])\r\n",
    "        for primary_channel, primary_overlap_dict in master_overlap_dict.items():\r\n",
    "            for comparison_channel, shared_overlap in primary_overlap_dict.items():\r\n",
    "                writer.writerow([primary_channel, comparison_channel, shared_overlap])\r\n",
    "\r\n",
    "def create_labels_csv(overlap_dict, channel_df):\r\n",
    "    with open('youtube_labels.csv', 'w', encoding='utf-8') as csvfile:\r\n",
    "        writer = csv.writer(csvfile, delimiter=',')\r\n",
    "        writer.writerow(['Id', 'Label', 'Count'])\r\n",
    "        for primary_channel in overlap_dict:\r\n",
    "            display_name = channel_df[channel_df['username'] == primary_channel].iloc[0]['displayname']\r\n",
    "            subscriber_count = channel_df[channel_df['username'] == primary_channel].iloc[0]['subscribers']\r\n",
    "            writer.writerow([primary_channel, display_name, subscriber_count])"
   ],
   "outputs": [],
   "metadata": {}
  },
  {
   "cell_type": "code",
   "execution_count": 12,
   "source": [
    "create_edges_csv(master_overlap_dict)\r\n",
    "create_labels_csv(master_overlap_dict, channel_df)"
   ],
   "outputs": [],
   "metadata": {}
  },
  {
   "cell_type": "code",
   "execution_count": null,
   "source": [],
   "outputs": [],
   "metadata": {}
  }
 ],
 "metadata": {
  "orig_nbformat": 4,
  "language_info": {
   "name": "python",
   "version": "3.7.7",
   "mimetype": "text/x-python",
   "codemirror_mode": {
    "name": "ipython",
    "version": 3
   },
   "pygments_lexer": "ipython3",
   "nbconvert_exporter": "python",
   "file_extension": ".py"
  },
  "kernelspec": {
   "name": "python3",
   "display_name": "Python 3.7.7 64-bit"
  },
  "interpreter": {
   "hash": "5b2e88619c1c483adf9efb6ba1294707a7d17938092954dcbc7e3af579c2f9f0"
  }
 },
 "nbformat": 4,
 "nbformat_minor": 2
}