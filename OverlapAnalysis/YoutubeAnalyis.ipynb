{
 "cells": [
  {
   "cell_type": "code",
   "execution_count": 101,
   "metadata": {},
   "outputs": [],
   "source": [
    "import boto3\n",
    "import pickle as pkl\n",
    "import pandas as pd\n",
    "import csv\n",
    "import time\n",
    "bucket = 'youtube-overlaps'"
   ]
  },
  {
   "cell_type": "code",
   "execution_count": 102,
   "metadata": {},
   "outputs": [],
   "source": [
    "def see_all_files_s3(bucket):\n",
    "    s3 = boto3.resource('s3')\n",
    "    s3_bucket = s3.Bucket(bucket)\n",
    "    files = []\n",
    "    for obj in s3_bucket.objects.all():\n",
    "        files.append(obj.key)\n",
    "    return files\n",
    "\n",
    "def load_pkl_obj_s3(file_name, bucket):\n",
    "    try:\n",
    "        s3 = boto3.resource('s3')\n",
    "        obj = pkl.loads(s3.Bucket(bucket).Object(file_name).get()['Body'].read())\n",
    "    except:\n",
    "        time.sleep(5)\n",
    "        return load_pkl_obj_s3(file_name, bucket)\n",
    "        \n",
    "    return obj"
   ]
  },
  {
   "cell_type": "code",
   "execution_count": 103,
   "metadata": {},
   "outputs": [
    {
     "data": {
      "text/plain": [
       "1"
      ]
     },
     "execution_count": 103,
     "metadata": {},
     "output_type": "execute_result"
    }
   ],
   "source": [
    "commenter_files = see_all_files_s3(bucket)\n",
    "channel_file_dict = {}\n",
    "for file_name in commenter_files:\n",
    "    prefix_len = 9\n",
    "    suffix_len = 17\n",
    "    channel_name = file_name[prefix_len:-suffix_len]\n",
    "    channel_file_dict[channel_name] = file_name\n",
    "\n",
    "len(channel_file_dict)"
   ]
  },
  {
   "cell_type": "code",
   "execution_count": 104,
   "metadata": {},
   "outputs": [
    {
     "name": "stdout",
     "output_type": "stream",
     "text": [
      "0.0\n",
      "1\n"
     ]
    }
   ],
   "source": [
    "master_overlap_dict = {}\n",
    "count = 0\n",
    "for primary_channel, _file in channel_file_dict.items():\n",
    "    channel_overlap_dict = load_pkl_obj_s3(_file, bucket)\n",
    "    overlaps = channel_overlap_dict[list(channel_overlap_dict.keys())[0]]\n",
    "    for comparison_channel in list(overlaps.keys()):\n",
    "        if(overlaps[comparison_channel] < 10):\n",
    "            del overlaps[comparison_channel]\n",
    "    \n",
    "    channel_overlap_dict[list(channel_overlap_dict.keys())[0]] = overlaps\n",
    "    master_overlap_dict.update(channel_overlap_dict)\n",
    "\n",
    "    if(count % 100 == 0):\n",
    "        print(count / len(channel_file_dict))\n",
    "\n",
    "    count += 1\n",
    "\n",
    "print(len(master_overlap_dict))"
   ]
  },
  {
   "cell_type": "code",
   "execution_count": 106,
   "metadata": {},
   "outputs": [],
   "source": [
    "channel_df = pd.read_csv('Top20kYoutubeChannels.csv')"
   ]
  },
  {
   "cell_type": "code",
   "execution_count": 107,
   "metadata": {},
   "outputs": [],
   "source": [
    "unscraped_channels = []\n",
    "def create_edges_csv(overlap_dict):\n",
    "    with open('ludwig_edges.csv', 'w') as csvfile:\n",
    "        writer = csv.writer(csvfile, delimiter=',')\n",
    "        writer.writerow(['Source', 'Target', 'Weight'])\n",
    "        for primary_channel, primary_overlap_dict in master_overlap_dict.items():\n",
    "            for comparison_channel, shared_overlap in primary_overlap_dict.items():\n",
    "                if(comparison_channel not in overlap_dict):\n",
    "                    unscraped_channels.append(comparison_channel)\n",
    "                writer.writerow([primary_channel, comparison_channel, shared_overlap])\n",
    "\n",
    "def create_labels_csv(overlap_dict, channel_df):\n",
    "    with open('ludwig_labels.csv', 'w', encoding='utf-8') as csvfile:\n",
    "        writer = csv.writer(csvfile, delimiter=',')\n",
    "        writer.writerow(['Id', 'Label', 'Count'])\n",
    "        for primary_channel in overlap_dict:\n",
    "            display_name = channel_df[channel_df['username'] == primary_channel].iloc[0]['displayname']\n",
    "            subscriber_count = channel_df[channel_df['username'] == primary_channel].iloc[0]['subscribers']\n",
    "            writer.writerow([primary_channel, display_name, subscriber_count])\n",
    "        for primary_channel in unscraped_channels:\n",
    "            display_name = channel_df[channel_df['username'] == primary_channel].iloc[0]['displayname']\n",
    "            subscriber_count = channel_df[channel_df['username'] == primary_channel].iloc[0]['subscribers']\n",
    "            writer.writerow([primary_channel, display_name, subscriber_count])\n",
    "\n",
    "#This is only used if a human readable edge list is desired for ad hoc channel analysis\n",
    "def create_display_name_edges_csv(master_overlap_dict, channel_df):\n",
    "    with open('stanz_readable_edges.csv', 'w', newline='', encoding='utf-8') as csvfile:\n",
    "        writer = csv.writer(csvfile, delimiter=',')\n",
    "        writer.writerow(['Source', 'Target', 'Weight'])\n",
    "        for primary_channel, primary_overlap_dict in master_overlap_dict.items():\n",
    "            for comparison_channel, shared_overlap in primary_overlap_dict.items():\n",
    "                try:\n",
    "                    display_name = channel_df[channel_df['username'] == comparison_channel].iloc[0]['displayname']\n",
    "                except IndexError as e:\n",
    "                    display_name = comparison_channel\n",
    "                writer.writerow([primary_channel, f\"{display_name}\", shared_overlap])"
   ]
  },
  {
   "cell_type": "code",
   "execution_count": 108,
   "metadata": {},
   "outputs": [],
   "source": [
    "create_edges_csv(master_overlap_dict)\n",
    "create_labels_csv(master_overlap_dict, channel_df)\n",
    "\n",
    "#create_display_name_edges_csv(master_overlap_dict, channel_df)"
   ]
  }
 ],
 "metadata": {
  "interpreter": {
   "hash": "33a87785a35a7026c53e4638f18d558178b6e1ecfdbaae2f22f34804826ff433"
  },
  "kernelspec": {
   "display_name": "Python 3.7.6 64-bit",
   "name": "python3"
  },
  "language_info": {
   "codemirror_mode": {
    "name": "ipython",
    "version": 3
   },
   "file_extension": ".py",
   "mimetype": "text/x-python",
   "name": "python",
   "nbconvert_exporter": "python",
   "pygments_lexer": "ipython3",
   "version": "3.7.7"
  },
  "orig_nbformat": 4
 },
 "nbformat": 4,
 "nbformat_minor": 2
}
