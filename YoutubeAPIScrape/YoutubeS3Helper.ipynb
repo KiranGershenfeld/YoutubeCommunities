{
 "cells": [
  {
   "cell_type": "code",
   "execution_count": 18,
   "metadata": {},
   "outputs": [],
   "source": [
    "#Helper functions for verification and experimentation\n",
    "import boto3\n",
    "import pickle as pkl\n",
    "import pandas as pd\n",
    "import requests\n",
    "import json\n",
    "import os\n",
    "import logging"
   ]
  },
  {
   "cell_type": "code",
   "execution_count": 27,
   "metadata": {},
   "outputs": [],
   "source": [
    "def load_pkl_obj_s3(file_name, bucket):\n",
    "    s3 = boto3.resource('s3')\n",
    "    obj = pkl.loads(s3.Bucket(bucket).Object(file_name).get()['Body'].read())\n",
    "    return obj\n",
    "\n",
    "def dump_pkl_obj_s3(obj, file_name, bucket):\n",
    "    s3 = boto3.resource('s3')\n",
    "    pickle_obj = pkl.dumps(obj)\n",
    "    response = s3.Object(bucket, file_name).put(Body=pickle_obj)\n",
    "    return response['ResponseMetadata']\n",
    "\n",
    "def load_file_s3(object_name, bucket, downloaded_file_name=None):\n",
    "    s3 = boto3.client('s3')\n",
    "\n",
    "    if downloaded_file_name is None:\n",
    "        downloaded_file_name = object_name\n",
    "\n",
    "    with open(downloaded_file_name, 'wb') as f:\n",
    "        s3.download_fileobj(bucket, object_name, f)\n",
    "\n",
    "def dump_file_s3(local_file_name, bucket, target_file_name=None):\n",
    "    # If S3 object_name was not specified, use file_name\n",
    "    if target_file_name is None:\n",
    "        target_file_name = local_file_name\n",
    "\n",
    "    # Upload the file\n",
    "    s3_client = boto3.client('s3')\n",
    "    try:\n",
    "        response = s3_client.upload_file(local_file_name, bucket, target_file_name)\n",
    "    except ClientError as e:\n",
    "        logging.error(e)\n",
    "        return False\n",
    "    return True\n",
    "\n",
    "def see_all_files_s3(bucket):\n",
    "    s3 = boto3.resource('s3')\n",
    "    s3_bucket = s3.Bucket(bucket)\n",
    "    files = []\n",
    "    for obj in s3_bucket.objects.all():\n",
    "        files.append(obj.key)\n",
    "    return files\n"
   ]
  }
 ],
 "metadata": {
  "interpreter": {
   "hash": "33a87785a35a7026c53e4638f18d558178b6e1ecfdbaae2f22f34804826ff433"
  },
  "kernelspec": {
   "display_name": "Python 3.7.6 64-bit",
   "name": "python3"
  },
  "language_info": {
   "codemirror_mode": {
    "name": "ipython",
    "version": 3
   },
   "file_extension": ".py",
   "mimetype": "text/x-python",
   "name": "python",
   "nbconvert_exporter": "python",
   "pygments_lexer": "ipython3",
   "version": "3.7.7"
  },
  "orig_nbformat": 4
 },
 "nbformat": 4,
 "nbformat_minor": 2
}
