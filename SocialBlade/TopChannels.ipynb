{
 "cells": [
  {
   "cell_type": "code",
   "execution_count": 21,
   "source": [
    "from dotenv import load_dotenv\r\n",
    "import json\r\n",
    "import requests\r\n",
    "import os\r\n",
    "import pickle as pkl\r\n",
    "\r\n",
    "load_dotenv()\r\n",
    "\r\n",
    "SB_ID = os.environ.get(\"SOCIAL_BLADE_CLIENT_ID\")\r\n",
    "SB_TOKEN = os.environ.get(\"SOCIAL_BLADE_TOKEN\")"
   ],
   "outputs": [],
   "metadata": {}
  },
  {
   "cell_type": "code",
   "execution_count": 15,
   "source": [
    "endpoint = \"https://matrix.sbapis.com/b/youtube/top\"\r\n",
    "auth_headers = {'clientid': SB_ID, 'token': SB_TOKEN}\r\n",
    "\r\n",
    "sb_data = []\r\n",
    "\r\n",
    "for page_cursor in range(0, 83):\r\n",
    "    #Pricing Safety Lock\r\n",
    "    if(page_cursor > 0):\r\n",
    "        break\r\n",
    "\r\n",
    "    parameters = {'page': page_cursor, 'query': 'subscribers'}\r\n",
    "\r\n",
    "    response = requests.get(endpoint, headers=auth_headers, params=parameters)\r\n",
    "    if(response.status_code != 200):\r\n",
    "        print(f\"Request failed with status code: {response.status_code}\")\r\n",
    "        page_cursor -= 1\r\n",
    "        continue\r\n",
    "\r\n",
    "    try:\r\n",
    "        response_json = response.json()['data']\r\n",
    "    except KeyError as e:\r\n",
    "        print(f\"Could not find data in response error: {e}\")\r\n",
    "    \r\n",
    "    for channel_obj in response_json:\r\n",
    "        sb_data.append(channel_obj)\r\n",
    "    \r\n",
    "    print(f\"Finished pull for page: {page_cursor}\")\r\n"
   ],
   "outputs": [],
   "metadata": {}
  },
  {
   "cell_type": "code",
   "execution_count": 20,
   "source": [
    "with open('sb_data_trial.pkl', 'wb') as handle:\r\n",
    "    pkl.dump(sb_data, handle)"
   ],
   "outputs": [],
   "metadata": {}
  },
  {
   "cell_type": "code",
   "execution_count": null,
   "source": [],
   "outputs": [],
   "metadata": {}
  }
 ],
 "metadata": {
  "orig_nbformat": 4,
  "language_info": {
   "name": "python",
   "version": "3.7.7",
   "mimetype": "text/x-python",
   "codemirror_mode": {
    "name": "ipython",
    "version": 3
   },
   "pygments_lexer": "ipython3",
   "nbconvert_exporter": "python",
   "file_extension": ".py"
  },
  "kernelspec": {
   "name": "python3",
   "display_name": "Python 3.7.7 64-bit"
  },
  "interpreter": {
   "hash": "5b2e88619c1c483adf9efb6ba1294707a7d17938092954dcbc7e3af579c2f9f0"
  }
 },
 "nbformat": 4,
 "nbformat_minor": 2
}