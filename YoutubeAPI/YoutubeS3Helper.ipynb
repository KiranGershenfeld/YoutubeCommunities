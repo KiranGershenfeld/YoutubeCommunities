{
 "cells": [
  {
   "cell_type": "code",
   "execution_count": 2,
   "source": [
    "import boto3\r\n",
    "import pickle as pkl\r\n",
    "import pandas as pd\r\n",
    "import requests\r\n",
    "import json\r\n",
    "import os\r\n",
    "import logging"
   ],
   "outputs": [],
   "metadata": {}
  },
  {
   "cell_type": "code",
   "execution_count": 3,
   "source": [
    "def load_pkl_obj_s3(file_name, bucket):\r\n",
    "    s3 = boto3.resource('s3')\r\n",
    "    obj = pkl.loads(s3.Bucket(bucket).Object(file_name).get()['Body'].read())\r\n",
    "    return obj\r\n",
    "\r\n",
    "def dump_pkl_obj_s3(obj, file_name, bucket):\r\n",
    "    s3 = boto3.resource('s3')\r\n",
    "    pickle_obj = pkl.dumps(obj)\r\n",
    "    response = s3.Object(bucket, file_name).put(Body=pickle_obj)\r\n",
    "    return response['ResponseMetadata']\r\n",
    "\r\n",
    "def load_file_s3(object_name, bucket, downloaded_file_name=None):\r\n",
    "    s3 = boto3.client('s3')\r\n",
    "\r\n",
    "    if downloaded_file_name is None:\r\n",
    "        downloaded_file_name = object_name\r\n",
    "\r\n",
    "    with open(downloaded_file_name, 'wb') as f:\r\n",
    "        s3.download_fileobj(bucket, object_name, f)\r\n",
    "\r\n",
    "def dump_file_s3(local_file_name, bucket, target_file_name=None):\r\n",
    "    # If S3 object_name was not specified, use file_name\r\n",
    "    if target_file_name is None:\r\n",
    "        target_file_name = local_file_name\r\n",
    "\r\n",
    "    # Upload the file\r\n",
    "    s3_client = boto3.client('s3')\r\n",
    "    try:\r\n",
    "        response = s3_client.upload_file(local_file_name, bucket, target_file_name)\r\n",
    "    except ClientError as e:\r\n",
    "        logging.error(e)\r\n",
    "        return False\r\n",
    "    return True\r\n",
    "\r\n",
    "def see_all_files_s3(bucket):\r\n",
    "    objects = boto3.client('s3').list_objects_v2(Bucket=bucket)['Contents']\r\n",
    "    files = []\r\n",
    "    for obj in objects:\r\n",
    "        files.append(obj['Key'])\r\n",
    "    return files\r\n",
    "\r\n"
   ],
   "outputs": [],
   "metadata": {}
  },
  {
   "cell_type": "code",
   "execution_count": 6,
   "source": [
    "with open('CurrentChannel.pkl', 'wb') as handle:\r\n",
    "    pkl.dump('sebastianyatra', handle) "
   ],
   "outputs": [],
   "metadata": {}
  },
  {
   "cell_type": "code",
   "execution_count": 7,
   "source": [
    "\r\n",
    "dump_file_s3('CurrentChannel.pkl', 'youtube-commenters', 'CurrentChannel.pkl')"
   ],
   "outputs": [
    {
     "output_type": "execute_result",
     "data": {
      "text/plain": [
       "True"
      ]
     },
     "metadata": {},
     "execution_count": 7
    }
   ],
   "metadata": {}
  },
  {
   "cell_type": "code",
   "execution_count": null,
   "source": [],
   "outputs": [],
   "metadata": {}
  }
 ],
 "metadata": {
  "orig_nbformat": 4,
  "language_info": {
   "name": "python",
   "version": "3.7.6",
   "mimetype": "text/x-python",
   "codemirror_mode": {
    "name": "ipython",
    "version": 3
   },
   "pygments_lexer": "ipython3",
   "nbconvert_exporter": "python",
   "file_extension": ".py"
  },
  "kernelspec": {
   "name": "python3",
   "display_name": "Python 3.7.6 64-bit"
  },
  "interpreter": {
   "hash": "33a87785a35a7026c53e4638f18d558178b6e1ecfdbaae2f22f34804826ff433"
  }
 },
 "nbformat": 4,
 "nbformat_minor": 2
}